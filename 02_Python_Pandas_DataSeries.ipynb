{
  "cells": [
    {
      "cell_type": "markdown",
      "metadata": {
        "id": "view-in-github",
        "colab_type": "text"
      },
      "source": [
        "<a href=\"https://colab.research.google.com/github/deepanshuMeteor/QADataAnalytics/blob/main/02_Python_Pandas_DataSeries.ipynb\" target=\"_parent\"><img src=\"https://colab.research.google.com/assets/colab-badge.svg\" alt=\"Open In Colab\"/></a>"
      ]
    },
    {
      "cell_type": "code",
      "execution_count": null,
      "metadata": {
        "id": "BUzjyYAj34aH"
      },
      "outputs": [],
      "source": [
        "import numpy as np\n",
        "import pandas as pd\n",
        "import datetime"
      ]
    },
    {
      "cell_type": "markdown",
      "metadata": {
        "id": "5Z-dLqPi34aO"
      },
      "source": [
        "## DataSeries"
      ]
    },
    {
      "cell_type": "code",
      "execution_count": null,
      "metadata": {
        "id": "5kuvk9Ni34aR"
      },
      "outputs": [],
      "source": [
        "my_readings = [3.12, 3.54, 3.24, 3.67, 3.56, 3.87]"
      ]
    },
    {
      "cell_type": "markdown",
      "metadata": {
        "id": "FLiuUvSi34aS"
      },
      "source": [
        "We can create a DataSeries using any list or np.array,"
      ]
    },
    {
      "cell_type": "code",
      "execution_count": null,
      "metadata": {
        "id": "wLN-Zvhe34aT"
      },
      "outputs": [],
      "source": [
        "ds_readings = pd.Series(my_readings)\n",
        "ds_readings"
      ]
    },
    {
      "cell_type": "code",
      "execution_count": null,
      "metadata": {
        "id": "f69xpynO34aU"
      },
      "outputs": [],
      "source": [
        ""
      ]
    },
    {
      "cell_type": "code",
      "execution_count": null,
      "metadata": {
        "id": "gIKpZ4tr34aV"
      },
      "outputs": [],
      "source": [
        "## Output Index\n",
        "ds_readings.index"
      ]
    },
    {
      "cell_type": "code",
      "execution_count": null,
      "metadata": {
        "id": "tAJlZVCl34aW"
      },
      "outputs": [],
      "source": [
        "## Output Value\n",
        "ds_readings.values"
      ]
    },
    {
      "cell_type": "code",
      "execution_count": null,
      "metadata": {
        "id": "7JOLv8Lo34aX"
      },
      "outputs": [],
      "source": [
        ""
      ]
    },
    {
      "cell_type": "code",
      "execution_count": null,
      "metadata": {
        "id": "R7PQkjMI34aY"
      },
      "outputs": [],
      "source": [
        "ds_readings[0]"
      ]
    },
    {
      "cell_type": "code",
      "execution_count": null,
      "metadata": {
        "id": "o3CuTrmM34aa"
      },
      "outputs": [],
      "source": [
        "ds_readings[4]"
      ]
    },
    {
      "cell_type": "markdown",
      "metadata": {
        "id": "3PadXxFY34ac"
      },
      "source": [
        ""
      ]
    },
    {
      "cell_type": "code",
      "execution_count": null,
      "metadata": {
        "id": "VzwqHcln34ad"
      },
      "outputs": [],
      "source": [
        "ds_readings[1:4]"
      ]
    },
    {
      "cell_type": "markdown",
      "metadata": {
        "id": "MBLaYx9T34af"
      },
      "source": [
        "**Masking**"
      ]
    },
    {
      "cell_type": "code",
      "execution_count": null,
      "metadata": {
        "id": "pJNUhs8B34ag"
      },
      "outputs": [],
      "source": [
        "## Note list input\n",
        "ds_readings[[True, False, True, False, False, False]]"
      ]
    },
    {
      "cell_type": "markdown",
      "metadata": {
        "id": "UjasotYL34ah"
      },
      "source": [
        ""
      ]
    },
    {
      "cell_type": "code",
      "execution_count": null,
      "metadata": {
        "id": "tG_nhA8j34ai"
      },
      "outputs": [],
      "source": [
        "ds_readings + 10"
      ]
    },
    {
      "cell_type": "markdown",
      "metadata": {
        "id": "9hSy4se734ai"
      },
      "source": [
        ""
      ]
    },
    {
      "cell_type": "code",
      "execution_count": null,
      "metadata": {
        "id": "EK1M2cdy34ak"
      },
      "outputs": [],
      "source": [
        "ds_readings > 3.5"
      ]
    },
    {
      "cell_type": "markdown",
      "metadata": {
        "id": "dR8NcDHd34al"
      },
      "source": [
        "### Q: Why might the above be useful?"
      ]
    },
    {
      "cell_type": "markdown",
      "metadata": {
        "id": "FWMupI8k34al"
      },
      "source": [
        "Output would be very useful when used as a mask for another series"
      ]
    },
    {
      "cell_type": "code",
      "execution_count": null,
      "metadata": {
        "id": "f12nYxls34am"
      },
      "outputs": [],
      "source": [
        "ds_readings[ds_readings > 3.5]"
      ]
    },
    {
      "cell_type": "markdown",
      "metadata": {
        "id": "-KYyXBTe34an"
      },
      "source": [
        "We can always combine filtering and operators"
      ]
    },
    {
      "cell_type": "code",
      "execution_count": null,
      "metadata": {
        "id": "4qKyBo7f34ao"
      },
      "outputs": [],
      "source": [
        "ds_readings[ds_readings > 3.5] * 2"
      ]
    },
    {
      "cell_type": "markdown",
      "metadata": {
        "id": "oXzj9HlC34ao"
      },
      "source": [
        "And to change the values, either all, or partial is easy,"
      ]
    },
    {
      "cell_type": "code",
      "execution_count": null,
      "metadata": {
        "id": "jnk2NeP634ap"
      },
      "outputs": [],
      "source": [
        "ds_readings[ds_readings > 3.5] = 0"
      ]
    },
    {
      "cell_type": "code",
      "execution_count": null,
      "metadata": {
        "id": "8y5pNPxQ34ap"
      },
      "outputs": [],
      "source": [
        "ds_readings"
      ]
    },
    {
      "cell_type": "markdown",
      "metadata": {
        "id": "pc1TG7N934aq"
      },
      "source": [
        "## Exercise\n",
        "   * ### Create a new Dataseries on a topic of your choosing(numeric, length = 8)\n",
        "   * ### Output the 2nd, last, and last two elements\n",
        "   * ### Subtract a number from all elements\n",
        "   * ### Generate and apply a mask\n",
        "   * ### Use the mask to set values to 0"
      ]
    },
    {
      "cell_type": "markdown",
      "metadata": {
        "id": "_D7X7mO334at"
      },
      "source": [
        "### How do I modify index?"
      ]
    },
    {
      "cell_type": "code",
      "execution_count": null,
      "metadata": {
        "id": "fOLmcUTk34au"
      },
      "outputs": [],
      "source": [
        "timings = [datetime.time(1, 3, increment) for increment in range(6)]"
      ]
    },
    {
      "cell_type": "code",
      "execution_count": null,
      "metadata": {
        "id": "RGihyXeH34au"
      },
      "outputs": [],
      "source": [
        "timings"
      ]
    },
    {
      "cell_type": "code",
      "execution_count": null,
      "metadata": {
        "id": "_9euSia634au"
      },
      "outputs": [],
      "source": [
        "ds_readings.index = timings"
      ]
    },
    {
      "cell_type": "code",
      "execution_count": null,
      "metadata": {
        "id": "Tq8zZasK34av"
      },
      "outputs": [],
      "source": [
        "ds_readings"
      ]
    },
    {
      "cell_type": "markdown",
      "metadata": {
        "id": "vCg0Slcy34av"
      },
      "source": [
        "The `.value_counts` function finds all the unique values in the series and gives the number of ocurrences of the same number in the series,"
      ]
    },
    {
      "cell_type": "code",
      "execution_count": null,
      "metadata": {
        "id": "s5c-v7_Q34av"
      },
      "outputs": [],
      "source": [
        "ds_readings.value_counts()"
      ]
    },
    {
      "cell_type": "markdown",
      "metadata": {
        "id": "SakvtFX534aw"
      },
      "source": [
        "we can also sort, ascending and descending"
      ]
    },
    {
      "cell_type": "code",
      "execution_count": null,
      "metadata": {
        "id": "P8cLLKU334aw"
      },
      "outputs": [],
      "source": [
        "ds_readings.sort_values()"
      ]
    },
    {
      "cell_type": "code",
      "execution_count": null,
      "metadata": {
        "id": "ctbHNMf334aw"
      },
      "outputs": [],
      "source": [
        "ds_readings.sort_values(ascending = False)"
      ]
    },
    {
      "cell_type": "markdown",
      "metadata": {
        "id": "Iabi3Uaa34ax"
      },
      "source": [
        "### np.nan"
      ]
    },
    {
      "cell_type": "markdown",
      "metadata": {
        "id": "0FL1kZWo34ax"
      },
      "source": [
        "`np.nan` refers to a value that should be but do not exist. And pandas provides an easiy function to check emptiness"
      ]
    },
    {
      "cell_type": "markdown",
      "metadata": {
        "id": "g52aYB3X34ax"
      },
      "source": [
        "We first add np.nan into the seies"
      ]
    },
    {
      "cell_type": "code",
      "execution_count": null,
      "metadata": {
        "id": "_WyIZg1Y34ay"
      },
      "outputs": [],
      "source": [
        "ds_readings[datetime.time(0,3,6)] =  np.nan "
      ]
    },
    {
      "cell_type": "code",
      "execution_count": null,
      "metadata": {
        "id": "BGnWYorz34ay"
      },
      "outputs": [],
      "source": [
        "ds_readings"
      ]
    },
    {
      "cell_type": "code",
      "execution_count": null,
      "metadata": {
        "id": "ICQ6cP4r34ay"
      },
      "outputs": [],
      "source": [
        "ds_readings[datetime.time(0,3,7)] =  3.48 "
      ]
    },
    {
      "cell_type": "code",
      "execution_count": null,
      "metadata": {
        "id": "c9bkmkI634ay"
      },
      "outputs": [],
      "source": [
        "ds_readings"
      ]
    },
    {
      "cell_type": "markdown",
      "metadata": {
        "id": "oONXG0wS34az"
      },
      "source": [
        "And pandas provides method for checking emptiness"
      ]
    },
    {
      "cell_type": "code",
      "execution_count": null,
      "metadata": {
        "id": "XvBDGamF34az"
      },
      "outputs": [],
      "source": [
        "ds_readings.isna()"
      ]
    },
    {
      "cell_type": "code",
      "execution_count": null,
      "metadata": {
        "id": "W2ramfYH34a0"
      },
      "outputs": [],
      "source": [
        "ds_readings[ds_readings.isna()]"
      ]
    },
    {
      "cell_type": "code",
      "execution_count": null,
      "metadata": {
        "id": "JZFpaNuY34a0"
      },
      "outputs": [],
      "source": [
        "result = ds_readings[ds_readings.isna()]"
      ]
    },
    {
      "cell_type": "code",
      "execution_count": null,
      "metadata": {
        "id": "i8_4gG2K34a0"
      },
      "outputs": [],
      "source": [
        "result.index"
      ]
    },
    {
      "cell_type": "markdown",
      "metadata": {
        "id": "sk_pn2IH34a0"
      },
      "source": [
        "To remove items, use drop. You need to refer to the index value."
      ]
    },
    {
      "cell_type": "code",
      "execution_count": null,
      "metadata": {
        "id": "Gc99XBEi34a1"
      },
      "outputs": [],
      "source": [
        "ds_readings.drop(result.index)"
      ]
    },
    {
      "cell_type": "code",
      "execution_count": null,
      "metadata": {
        "id": "WSHwvjzn34a1"
      },
      "outputs": [],
      "source": [
        "ds_readings.isna()"
      ]
    },
    {
      "cell_type": "markdown",
      "metadata": {
        "id": "UJ0Gv-ad34a1"
      },
      "source": [
        "There are reduction methods "
      ]
    },
    {
      "cell_type": "code",
      "execution_count": null,
      "metadata": {
        "id": "dXQlJ8M_34a1"
      },
      "outputs": [],
      "source": [
        "ds_readings.isna().any()"
      ]
    },
    {
      "cell_type": "code",
      "execution_count": null,
      "metadata": {
        "id": "tNqdgfj234a1"
      },
      "outputs": [],
      "source": [
        "ds_readings.isna().all()"
      ]
    },
    {
      "cell_type": "code",
      "execution_count": null,
      "metadata": {
        "id": "f4tnlvWb34a2"
      },
      "outputs": [],
      "source": [
        "ds_readings.isna().sum()"
      ]
    },
    {
      "cell_type": "code",
      "execution_count": null,
      "metadata": {
        "id": "ld0nOsPh34a2"
      },
      "outputs": [],
      "source": [
        "ds_readings.unique()"
      ]
    },
    {
      "cell_type": "markdown",
      "metadata": {
        "id": "iix-mfr_34a2"
      },
      "source": [
        "### Mappings"
      ]
    },
    {
      "cell_type": "code",
      "execution_count": null,
      "metadata": {
        "id": "PMqypVso34a2"
      },
      "outputs": [],
      "source": [
        "mapping = {0: 10.0, np.nan: 0.0}\n",
        "ds_readings.replace(mapping)"
      ]
    },
    {
      "cell_type": "code",
      "execution_count": null,
      "metadata": {
        "id": "mA_tgxgS34a3"
      },
      "outputs": [],
      "source": [
        "def myround(x):\n",
        "    return round(x, 1)"
      ]
    },
    {
      "cell_type": "code",
      "execution_count": null,
      "metadata": {
        "id": "m5hqJiF034a3"
      },
      "outputs": [],
      "source": [
        "ds_readings.map(myround)"
      ]
    },
    {
      "cell_type": "code",
      "execution_count": null,
      "metadata": {
        "id": "XFKjZut-34a3"
      },
      "outputs": [],
      "source": [
        "ds_readings.map(lambda x: round(x,1))"
      ]
    },
    {
      "cell_type": "markdown",
      "metadata": {
        "id": "qKr3UQKI34a4"
      },
      "source": [
        "## Exercise\n",
        "   * ### Change the index of the list you created in the previous exercise so that it is indexed by time\n",
        "   * ### Insert several np.nan values\n",
        "   * ### remove these values using `.isna()` and `.drop()`\n",
        "   * ### Define a function which squares numbers given as input and apply it accross the list using `.map()`\n",
        "    "
      ]
    }
  ],
  "metadata": {
    "kernelspec": {
      "display_name": "Python 3",
      "language": "python",
      "name": "python3"
    },
    "language_info": {
      "codemirror_mode": {
        "name": "ipython",
        "version": 3
      },
      "file_extension": ".py",
      "mimetype": "text/x-python",
      "name": "python",
      "nbconvert_exporter": "python",
      "pygments_lexer": "ipython3",
      "version": "3.7.4"
    },
    "colab": {
      "name": "02_Python-Pandas-DataSeries.ipynb",
      "provenance": [],
      "include_colab_link": true
    }
  },
  "nbformat": 4,
  "nbformat_minor": 0
}